{
 "cells": [
  {
   "cell_type": "code",
   "execution_count": 60,
   "metadata": {},
   "outputs": [
    {
     "data": {
      "text/html": [
       "<div>\n",
       "<style scoped>\n",
       "    .dataframe tbody tr th:only-of-type {\n",
       "        vertical-align: middle;\n",
       "    }\n",
       "\n",
       "    .dataframe tbody tr th {\n",
       "        vertical-align: top;\n",
       "    }\n",
       "\n",
       "    .dataframe thead th {\n",
       "        text-align: right;\n",
       "    }\n",
       "</style>\n",
       "<table border=\"1\" class=\"dataframe\">\n",
       "  <thead>\n",
       "    <tr style=\"text-align: right;\">\n",
       "      <th></th>\n",
       "      <th>open</th>\n",
       "      <th>close</th>\n",
       "      <th>high</th>\n",
       "      <th>low</th>\n",
       "      <th>value</th>\n",
       "      <th>volume</th>\n",
       "      <th>begin</th>\n",
       "      <th>end</th>\n",
       "    </tr>\n",
       "  </thead>\n",
       "  <tbody>\n",
       "    <tr>\n",
       "      <th>0</th>\n",
       "      <td>616.8</td>\n",
       "      <td>616.8</td>\n",
       "      <td>616.8</td>\n",
       "      <td>616.8</td>\n",
       "      <td>149265.6</td>\n",
       "      <td>242.0</td>\n",
       "      <td>2023-12-04 09:59:00</td>\n",
       "      <td>2023-12-04 09:59:59</td>\n",
       "    </tr>\n",
       "    <tr>\n",
       "      <th>1</th>\n",
       "      <td>617.0</td>\n",
       "      <td>612.6</td>\n",
       "      <td>619.4</td>\n",
       "      <td>612.6</td>\n",
       "      <td>307057.6</td>\n",
       "      <td>497.0</td>\n",
       "      <td>2023-12-04 10:00:00</td>\n",
       "      <td>2023-12-04 10:00:59</td>\n",
       "    </tr>\n",
       "    <tr>\n",
       "      <th>2</th>\n",
       "      <td>612.4</td>\n",
       "      <td>615.8</td>\n",
       "      <td>616.0</td>\n",
       "      <td>612.0</td>\n",
       "      <td>15934.8</td>\n",
       "      <td>26.0</td>\n",
       "      <td>2023-12-04 10:01:00</td>\n",
       "      <td>2023-12-04 10:01:59</td>\n",
       "    </tr>\n",
       "    <tr>\n",
       "      <th>3</th>\n",
       "      <td>612.4</td>\n",
       "      <td>599.6</td>\n",
       "      <td>612.4</td>\n",
       "      <td>591.0</td>\n",
       "      <td>2601473.0</td>\n",
       "      <td>4332.0</td>\n",
       "      <td>2023-12-04 10:02:00</td>\n",
       "      <td>2023-12-04 10:02:59</td>\n",
       "    </tr>\n",
       "    <tr>\n",
       "      <th>4</th>\n",
       "      <td>599.2</td>\n",
       "      <td>599.0</td>\n",
       "      <td>600.2</td>\n",
       "      <td>592.4</td>\n",
       "      <td>1176132.4</td>\n",
       "      <td>1978.0</td>\n",
       "      <td>2023-12-04 10:03:00</td>\n",
       "      <td>2023-12-04 10:03:59</td>\n",
       "    </tr>\n",
       "    <tr>\n",
       "      <th>...</th>\n",
       "      <td>...</td>\n",
       "      <td>...</td>\n",
       "      <td>...</td>\n",
       "      <td>...</td>\n",
       "      <td>...</td>\n",
       "      <td>...</td>\n",
       "      <td>...</td>\n",
       "      <td>...</td>\n",
       "    </tr>\n",
       "    <tr>\n",
       "      <th>2212</th>\n",
       "      <td>574.6</td>\n",
       "      <td>574.6</td>\n",
       "      <td>574.6</td>\n",
       "      <td>574.6</td>\n",
       "      <td>29879.2</td>\n",
       "      <td>52.0</td>\n",
       "      <td>2023-12-08 18:37:00</td>\n",
       "      <td>2023-12-08 18:37:59</td>\n",
       "    </tr>\n",
       "    <tr>\n",
       "      <th>2213</th>\n",
       "      <td>574.6</td>\n",
       "      <td>574.8</td>\n",
       "      <td>574.8</td>\n",
       "      <td>574.6</td>\n",
       "      <td>2873.2</td>\n",
       "      <td>5.0</td>\n",
       "      <td>2023-12-08 18:38:00</td>\n",
       "      <td>2023-12-08 18:38:59</td>\n",
       "    </tr>\n",
       "    <tr>\n",
       "      <th>2214</th>\n",
       "      <td>574.6</td>\n",
       "      <td>572.0</td>\n",
       "      <td>574.6</td>\n",
       "      <td>572.0</td>\n",
       "      <td>137814.4</td>\n",
       "      <td>240.0</td>\n",
       "      <td>2023-12-08 18:39:00</td>\n",
       "      <td>2023-12-08 18:39:59</td>\n",
       "    </tr>\n",
       "    <tr>\n",
       "      <th>2215</th>\n",
       "      <td>572.0</td>\n",
       "      <td>572.0</td>\n",
       "      <td>572.0</td>\n",
       "      <td>572.0</td>\n",
       "      <td>4004.0</td>\n",
       "      <td>7.0</td>\n",
       "      <td>2023-12-08 18:45:00</td>\n",
       "      <td>2023-12-08 18:45:59</td>\n",
       "    </tr>\n",
       "    <tr>\n",
       "      <th>2216</th>\n",
       "      <td>572.0</td>\n",
       "      <td>572.0</td>\n",
       "      <td>572.0</td>\n",
       "      <td>572.0</td>\n",
       "      <td>11440.0</td>\n",
       "      <td>20.0</td>\n",
       "      <td>2023-12-08 18:46:00</td>\n",
       "      <td>2023-12-08 18:46:59</td>\n",
       "    </tr>\n",
       "  </tbody>\n",
       "</table>\n",
       "<p>2217 rows × 8 columns</p>\n",
       "</div>"
      ],
      "text/plain": [
       "       open  close   high    low      value  volume               begin  \\\n",
       "0     616.8  616.8  616.8  616.8   149265.6   242.0 2023-12-04 09:59:00   \n",
       "1     617.0  612.6  619.4  612.6   307057.6   497.0 2023-12-04 10:00:00   \n",
       "2     612.4  615.8  616.0  612.0    15934.8    26.0 2023-12-04 10:01:00   \n",
       "3     612.4  599.6  612.4  591.0  2601473.0  4332.0 2023-12-04 10:02:00   \n",
       "4     599.2  599.0  600.2  592.4  1176132.4  1978.0 2023-12-04 10:03:00   \n",
       "...     ...    ...    ...    ...        ...     ...                 ...   \n",
       "2212  574.6  574.6  574.6  574.6    29879.2    52.0 2023-12-08 18:37:00   \n",
       "2213  574.6  574.8  574.8  574.6     2873.2     5.0 2023-12-08 18:38:00   \n",
       "2214  574.6  572.0  574.6  572.0   137814.4   240.0 2023-12-08 18:39:00   \n",
       "2215  572.0  572.0  572.0  572.0     4004.0     7.0 2023-12-08 18:45:00   \n",
       "2216  572.0  572.0  572.0  572.0    11440.0    20.0 2023-12-08 18:46:00   \n",
       "\n",
       "                     end  \n",
       "0    2023-12-04 09:59:59  \n",
       "1    2023-12-04 10:00:59  \n",
       "2    2023-12-04 10:01:59  \n",
       "3    2023-12-04 10:02:59  \n",
       "4    2023-12-04 10:03:59  \n",
       "...                  ...  \n",
       "2212 2023-12-08 18:37:59  \n",
       "2213 2023-12-08 18:38:59  \n",
       "2214 2023-12-08 18:39:59  \n",
       "2215 2023-12-08 18:45:59  \n",
       "2216 2023-12-08 18:46:59  \n",
       "\n",
       "[2217 rows x 8 columns]"
      ]
     },
     "execution_count": 60,
     "metadata": {},
     "output_type": "execute_result"
    }
   ],
   "source": [
    "from moexalgo import Ticker\n",
    "import pandas as pd\n",
    "import time\n",
    "from datetime import date, datetime, timedelta\n",
    "\n",
    "length = 0\n",
    "# while True:\n",
    "#     fields_df = pd.DataFrame(Ticker('SBER').candles(date='2023-12-08', till_date='2023-12-08', period='1m'))\n",
    "#     if length < len(fields_df):\n",
    "#         print(fields_df.loc[len(fields_df)-1,:])\n",
    "#     time.sleep(60)\n",
    "sdate = (date.today() - timedelta(minutes=10000)).strftime(\"%Y-%m-%d\")\n",
    "fields_df = pd.DataFrame(Ticker('CIAN').candles(date=sdate, till_date='2023-12-08', period='1m'))\n",
    "    \n",
    "datetime.now().hour\n",
    "fields_df"
   ]
  },
  {
   "cell_type": "code",
   "execution_count": 44,
   "metadata": {},
   "outputs": [
    {
     "name": "stdout",
     "output_type": "stream",
     "text": [
      "<class 'str'>\n"
     ]
    },
    {
     "data": {
      "text/plain": [
       "'2023-12-02'"
      ]
     },
     "execution_count": 44,
     "metadata": {},
     "output_type": "execute_result"
    }
   ],
   "source": [
    "import time\n",
    "from datetime import date\n",
    "from datetime import timedelta\n",
    "today_date = date.today().strftime(\"%Y-%m-%d\")\n",
    "print(type(today_date))\n",
    "(date.today() - timedelta(minutes=10000)).strftime(\"%Y-%m-%d\")"
   ]
  },
  {
   "cell_type": "code",
   "execution_count": null,
   "metadata": {},
   "outputs": [],
   "source": [
    "# !pip3 install -r requirements.txt\n"
   ]
  },
  {
   "cell_type": "code",
   "execution_count": 3,
   "metadata": {},
   "outputs": [],
   "source": [
    "import pandas as pd\n",
    "# a = pd.read_csv('fields0.csv')\n",
    "# a = a.drop(['INN', 'FIELD'], axis=1)\n",
    "# a = a.dropna(axis=0)\n",
    "# a.to_csv('fields.csv', index=False)\n",
    "a = pd.read_csv('fields.csv')\n",
    "a.head()\n",
    "for i in range(0,0):\n",
    "    print(i)"
   ]
  },
  {
   "cell_type": "code",
   "execution_count": 43,
   "metadata": {},
   "outputs": [
    {
     "name": "stdout",
     "output_type": "stream",
     "text": [
      "['CIAN', 'HHRU', 'OZON', 'POSI', 'VKCO', 'YNDX']\n",
      "['ALRS', 'CHMF', 'ENPG', 'GMKN', 'MAGN', 'MTLR', 'MTLRP', 'NLMK', 'PLZL', 'POLY', 'RASP', 'RUAL', 'SELG', 'VSMO']\n",
      "['BANEP', 'GAZP', 'LKOH', 'NVTK', 'RNFT', 'ROSN', 'SNGS', 'SNGSP', 'TATN', 'TATNP', 'TRNFP']\n",
      "['ABIO', 'AGRO', 'APTK', 'AQUA', 'BELU', 'FIVE', 'FIXP', 'GEMC', 'LENT', 'MDMG', 'MGNT', 'MVID', 'OKEY', 'SVAV', 'WUSH']\n",
      "['ETLN', 'LSRG', 'PIKK', 'SMLT']\n",
      "['MGTSP', 'MTSS', 'RTKM', 'RTKMP', 'TTLK']\n",
      "['BSPB', 'CBOM', 'MOEX', 'QIWI', 'RENI', 'SBER', 'SBERP', 'SFIN', 'SPBE', 'TCSG', 'VTBR']\n",
      "['AKRN', 'KAZT', 'KZOS', 'KZOSP', 'NKNC', 'NKNCP', 'PHOR']\n",
      "['DVEC', 'ELFV', 'FEES', 'HYDR', 'IRAO', 'LSNGP', 'MRKC', 'MRKP', 'MRKU', 'MRKV', 'MRKZ', 'MSNG', 'MSRS', 'OGKB', 'TGKA', 'TGKB', 'UPRO']\n",
      "['AFLT', 'FESH', 'FLOT', 'GLTR', 'NKHP', 'NMTP']\n"
     ]
    }
   ],
   "source": [
    "# c = a.set_index('TRADE_CODE')\n",
    "# print(c)\n",
    "b = a.groupby('BIGFIELD').groups\n",
    "for k, v in b.items():\n",
    "    print(list(a.loc[v,'TRADE_CODE']))"
   ]
  },
  {
   "cell_type": "code",
   "execution_count": 1,
   "metadata": {},
   "outputs": [
    {
     "ename": "ModuleNotFoundError",
     "evalue": "No module named 'streamlit'",
     "output_type": "error",
     "traceback": [
      "\u001b[0;31m---------------------------------------------------------------------------\u001b[0m",
      "\u001b[0;31mModuleNotFoundError\u001b[0m                       Traceback (most recent call last)",
      "\u001b[1;32m/mnt/PartOfDiskWithWin7/LEARN/MOEX_hack_my_proj/MOEX_hack/work_mats/test.ipynb Cell 3\u001b[0m line \u001b[0;36m1\n\u001b[0;32m----> <a href='vscode-notebook-cell:/mnt/PartOfDiskWithWin7/LEARN/MOEX_hack_my_proj/MOEX_hack/work_mats/test.ipynb#W2sZmlsZQ%3D%3D?line=0'>1</a>\u001b[0m \u001b[39mimport\u001b[39;00m \u001b[39mstreamlit\u001b[39;00m \u001b[39mas\u001b[39;00m \u001b[39mst\u001b[39;00m\n\u001b[1;32m      <a href='vscode-notebook-cell:/mnt/PartOfDiskWithWin7/LEARN/MOEX_hack_my_proj/MOEX_hack/work_mats/test.ipynb#W2sZmlsZQ%3D%3D?line=2'>3</a>\u001b[0m st\u001b[39m.\u001b[39mbutton(\u001b[39m\"\u001b[39m\u001b[39mReset\u001b[39m\u001b[39m\"\u001b[39m, \u001b[39mtype\u001b[39m\u001b[39m=\u001b[39m\u001b[39m\"\u001b[39m\u001b[39mprimary\u001b[39m\u001b[39m\"\u001b[39m)\n\u001b[1;32m      <a href='vscode-notebook-cell:/mnt/PartOfDiskWithWin7/LEARN/MOEX_hack_my_proj/MOEX_hack/work_mats/test.ipynb#W2sZmlsZQ%3D%3D?line=3'>4</a>\u001b[0m \u001b[39mif\u001b[39;00m st\u001b[39m.\u001b[39mbutton(\u001b[39m'\u001b[39m\u001b[39mSay hello\u001b[39m\u001b[39m'\u001b[39m):\n",
      "\u001b[0;31mModuleNotFoundError\u001b[0m: No module named 'streamlit'"
     ]
    }
   ],
   "source": []
  }
 ],
 "metadata": {
  "kernelspec": {
   "display_name": "Python 3",
   "language": "python",
   "name": "python3"
  },
  "language_info": {
   "codemirror_mode": {
    "name": "ipython",
    "version": 3
   },
   "file_extension": ".py",
   "mimetype": "text/x-python",
   "name": "python",
   "nbconvert_exporter": "python",
   "pygments_lexer": "ipython3",
   "version": "3.11.5"
  }
 },
 "nbformat": 4,
 "nbformat_minor": 2
}
