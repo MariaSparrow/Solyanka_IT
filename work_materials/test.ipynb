{
 "cells": [
  {
   "cell_type": "code",
   "execution_count": 4,
   "metadata": {},
   "outputs": [
    {
     "name": "stdout",
     "output_type": "stream",
     "text": [
      "Defaulting to user installation because normal site-packages is not writeable\n",
      "Collecting streamlit\n",
      "  Using cached streamlit-1.29.0-py2.py3-none-any.whl (8.4 MB)\n",
      "Requirement already satisfied: pandas in /home/alex/.local/lib/python3.11/site-packages (from -r requirements.txt (line 2)) (2.1.3)\n",
      "Collecting moexalgo\n",
      "  Downloading moexalgo-1.0.1-py3-none-any.whl (21 kB)\n",
      "Collecting altair<6,>=4.0\n",
      "  Using cached altair-5.2.0-py3-none-any.whl (996 kB)\n",
      "Collecting blinker<2,>=1.0.0\n",
      "  Using cached blinker-1.7.0-py3-none-any.whl (13 kB)\n",
      "Collecting cachetools<6,>=4.0\n",
      "  Using cached cachetools-5.3.2-py3-none-any.whl (9.3 kB)\n",
      "Requirement already satisfied: click<9,>=7.0 in /usr/lib/python3.11/site-packages (from streamlit->-r requirements.txt (line 1)) (8.1.3)\n",
      "Collecting importlib-metadata<7,>=1.4\n",
      "  Using cached importlib_metadata-6.11.0-py3-none-any.whl (23 kB)\n",
      "Requirement already satisfied: numpy<2,>=1.19.3 in /usr/lib64/python3.11/site-packages (from streamlit->-r requirements.txt (line 1)) (1.24.2)\n",
      "Requirement already satisfied: packaging<24,>=16.8 in /home/alex/.local/lib/python3.11/site-packages (from streamlit->-r requirements.txt (line 1)) (23.2)\n",
      "Requirement already satisfied: pillow<11,>=7.1.0 in /home/alex/.local/lib/python3.11/site-packages (from streamlit->-r requirements.txt (line 1)) (10.1.0)\n",
      "Collecting protobuf<5,>=3.20\n",
      "  Using cached protobuf-4.25.1-cp37-abi3-manylinux2014_x86_64.whl (294 kB)\n",
      "Collecting pyarrow>=6.0\n",
      "  Using cached pyarrow-14.0.1-cp311-cp311-manylinux_2_28_x86_64.whl (38.0 MB)\n",
      "Requirement already satisfied: python-dateutil<3,>=2.7.3 in /home/alex/.local/lib/python3.11/site-packages (from streamlit->-r requirements.txt (line 1)) (2.8.2)\n",
      "Requirement already satisfied: requests<3,>=2.27 in /home/alex/.local/lib/python3.11/site-packages (from streamlit->-r requirements.txt (line 1)) (2.31.0)\n",
      "Requirement already satisfied: rich<14,>=10.14.0 in /usr/lib/python3.11/site-packages (from streamlit->-r requirements.txt (line 1)) (13.3.5)\n",
      "Requirement already satisfied: tenacity<9,>=8.1.0 in /home/alex/.local/lib/python3.11/site-packages (from streamlit->-r requirements.txt (line 1)) (8.2.3)\n",
      "Collecting toml<2,>=0.10.1\n",
      "  Using cached toml-0.10.2-py2.py3-none-any.whl (16 kB)\n",
      "Collecting typing-extensions<5,>=4.3.0\n",
      "  Using cached typing_extensions-4.8.0-py3-none-any.whl (31 kB)\n",
      "Collecting tzlocal<6,>=1.1\n",
      "  Using cached tzlocal-5.2-py3-none-any.whl (17 kB)\n",
      "Collecting validators<1,>=0.2\n",
      "  Using cached validators-0.22.0-py3-none-any.whl (26 kB)\n",
      "Collecting gitpython!=3.1.19,<4,>=3.0.7\n",
      "  Using cached GitPython-3.1.40-py3-none-any.whl (190 kB)\n",
      "Collecting pydeck<1,>=0.8.0b4\n",
      "  Using cached pydeck-0.8.1b0-py2.py3-none-any.whl (4.8 MB)\n",
      "Requirement already satisfied: tornado<7,>=6.0.3 in /home/alex/.local/lib/python3.11/site-packages (from streamlit->-r requirements.txt (line 1)) (6.3.3)\n",
      "Collecting watchdog>=2.1.5\n",
      "  Using cached watchdog-3.0.0-py3-none-manylinux2014_x86_64.whl (82 kB)\n",
      "Requirement already satisfied: pytz>=2020.1 in /home/alex/.local/lib/python3.11/site-packages (from pandas->-r requirements.txt (line 2)) (2023.3.post1)\n",
      "Requirement already satisfied: tzdata>=2022.1 in /home/alex/.local/lib/python3.11/site-packages (from pandas->-r requirements.txt (line 2)) (2023.3)\n",
      "Requirement already satisfied: httpx in /usr/lib/python3.11/site-packages (from moexalgo->-r requirements.txt (line 3)) (0.24.0)\n",
      "Requirement already satisfied: jinja2 in /home/alex/.local/lib/python3.11/site-packages (from altair<6,>=4.0->streamlit->-r requirements.txt (line 1)) (3.1.2)\n",
      "Requirement already satisfied: jsonschema>=3.0 in /home/alex/.local/lib/python3.11/site-packages (from altair<6,>=4.0->streamlit->-r requirements.txt (line 1)) (4.20.0)\n",
      "Collecting toolz\n",
      "  Using cached toolz-0.12.0-py3-none-any.whl (55 kB)\n",
      "Collecting gitdb<5,>=4.0.1\n",
      "  Using cached gitdb-4.0.11-py3-none-any.whl (62 kB)\n",
      "Collecting zipp>=0.5\n",
      "  Using cached zipp-3.17.0-py3-none-any.whl (7.4 kB)\n",
      "Requirement already satisfied: six>=1.5 in /home/alex/.local/lib/python3.11/site-packages (from python-dateutil<3,>=2.7.3->streamlit->-r requirements.txt (line 1)) (1.16.0)\n",
      "Requirement already satisfied: charset-normalizer<4,>=2 in /home/alex/.local/lib/python3.11/site-packages (from requests<3,>=2.27->streamlit->-r requirements.txt (line 1)) (3.3.2)\n",
      "Requirement already satisfied: idna<4,>=2.5 in /usr/lib/python3.11/site-packages (from requests<3,>=2.27->streamlit->-r requirements.txt (line 1)) (3.4)\n",
      "Requirement already satisfied: urllib3<3,>=1.21.1 in /home/alex/.local/lib/python3.11/site-packages (from requests<3,>=2.27->streamlit->-r requirements.txt (line 1)) (2.1.0)\n",
      "Requirement already satisfied: certifi>=2017.4.17 in /usr/lib/python3.11/site-packages (from requests<3,>=2.27->streamlit->-r requirements.txt (line 1)) (2023.7.22)\n",
      "Requirement already satisfied: markdown-it-py<3.0.0,>=2.2.0 in /usr/lib/python3.11/site-packages (from rich<14,>=10.14.0->streamlit->-r requirements.txt (line 1)) (2.2.0)\n",
      "Requirement already satisfied: pygments<3.0.0,>=2.13.0 in /home/alex/.local/lib/python3.11/site-packages (from rich<14,>=10.14.0->streamlit->-r requirements.txt (line 1)) (2.17.2)\n",
      "Requirement already satisfied: httpcore<0.18.0,>=0.15.0 in /usr/lib/python3.11/site-packages (from httpx->moexalgo->-r requirements.txt (line 3)) (0.17.0)\n",
      "Requirement already satisfied: sniffio in /usr/lib/python3.11/site-packages (from httpx->moexalgo->-r requirements.txt (line 3)) (1.3.0)\n",
      "Collecting smmap<6,>=3.0.1\n",
      "  Using cached smmap-5.0.1-py3-none-any.whl (24 kB)\n",
      "Requirement already satisfied: anyio<5.0,>=3.0 in /usr/lib/python3.11/site-packages (from httpcore<0.18.0,>=0.15.0->httpx->moexalgo->-r requirements.txt (line 3)) (3.6.2)\n",
      "Requirement already satisfied: h11<0.15,>=0.13 in /usr/lib/python3.11/site-packages (from httpcore<0.18.0,>=0.15.0->httpx->moexalgo->-r requirements.txt (line 3)) (0.14.0)\n",
      "Requirement already satisfied: MarkupSafe>=2.0 in /home/alex/.local/lib/python3.11/site-packages (from jinja2->altair<6,>=4.0->streamlit->-r requirements.txt (line 1)) (2.1.3)\n",
      "Requirement already satisfied: attrs>=22.2.0 in /home/alex/.local/lib/python3.11/site-packages (from jsonschema>=3.0->altair<6,>=4.0->streamlit->-r requirements.txt (line 1)) (23.1.0)\n",
      "Requirement already satisfied: jsonschema-specifications>=2023.03.6 in /home/alex/.local/lib/python3.11/site-packages (from jsonschema>=3.0->altair<6,>=4.0->streamlit->-r requirements.txt (line 1)) (2023.11.1)\n",
      "Requirement already satisfied: referencing>=0.28.4 in /home/alex/.local/lib/python3.11/site-packages (from jsonschema>=3.0->altair<6,>=4.0->streamlit->-r requirements.txt (line 1)) (0.31.1)\n",
      "Requirement already satisfied: rpds-py>=0.7.1 in /home/alex/.local/lib/python3.11/site-packages (from jsonschema>=3.0->altair<6,>=4.0->streamlit->-r requirements.txt (line 1)) (0.13.2)\n",
      "Requirement already satisfied: mdurl~=0.1 in /usr/lib/python3.11/site-packages (from markdown-it-py<3.0.0,>=2.2.0->rich<14,>=10.14.0->streamlit->-r requirements.txt (line 1)) (0.1.2)\n",
      "Installing collected packages: zipp, watchdog, validators, tzlocal, typing-extensions, toolz, toml, smmap, pyarrow, protobuf, cachetools, blinker, pydeck, importlib-metadata, gitdb, gitpython, moexalgo, altair, streamlit\n",
      "Successfully installed altair-5.2.0 blinker-1.7.0 cachetools-5.3.2 gitdb-4.0.11 gitpython-3.1.40 importlib-metadata-6.11.0 moexalgo-1.0.1 protobuf-4.25.1 pyarrow-14.0.1 pydeck-0.8.1b0 smmap-5.0.1 streamlit-1.29.0 toml-0.10.2 toolz-0.12.0 typing-extensions-4.8.0 tzlocal-5.2 validators-0.22.0 watchdog-3.0.0 zipp-3.17.0\n"
     ]
    }
   ],
   "source": [
    "!pip3 install -r requirements.txt\n"
   ]
  },
  {
   "cell_type": "code",
   "execution_count": null,
   "metadata": {},
   "outputs": [],
   "source": [
    "import pandas as pd\n",
    "# a = pd.read_csv('fields0.csv')\n",
    "# a = a.drop(['INN', 'FIELD'], axis=1)\n",
    "# a = a.dropna(axis=0)\n",
    "# a.to_csv('fields.csv', index=False)\n",
    "a = pd.read_csv('fields.csv')\n",
    "a.head()"
   ]
  },
  {
   "cell_type": "code",
   "execution_count": 43,
   "metadata": {},
   "outputs": [
    {
     "name": "stdout",
     "output_type": "stream",
     "text": [
      "['CIAN', 'HHRU', 'OZON', 'POSI', 'VKCO', 'YNDX']\n",
      "['ALRS', 'CHMF', 'ENPG', 'GMKN', 'MAGN', 'MTLR', 'MTLRP', 'NLMK', 'PLZL', 'POLY', 'RASP', 'RUAL', 'SELG', 'VSMO']\n",
      "['BANEP', 'GAZP', 'LKOH', 'NVTK', 'RNFT', 'ROSN', 'SNGS', 'SNGSP', 'TATN', 'TATNP', 'TRNFP']\n",
      "['ABIO', 'AGRO', 'APTK', 'AQUA', 'BELU', 'FIVE', 'FIXP', 'GEMC', 'LENT', 'MDMG', 'MGNT', 'MVID', 'OKEY', 'SVAV', 'WUSH']\n",
      "['ETLN', 'LSRG', 'PIKK', 'SMLT']\n",
      "['MGTSP', 'MTSS', 'RTKM', 'RTKMP', 'TTLK']\n",
      "['BSPB', 'CBOM', 'MOEX', 'QIWI', 'RENI', 'SBER', 'SBERP', 'SFIN', 'SPBE', 'TCSG', 'VTBR']\n",
      "['AKRN', 'KAZT', 'KZOS', 'KZOSP', 'NKNC', 'NKNCP', 'PHOR']\n",
      "['DVEC', 'ELFV', 'FEES', 'HYDR', 'IRAO', 'LSNGP', 'MRKC', 'MRKP', 'MRKU', 'MRKV', 'MRKZ', 'MSNG', 'MSRS', 'OGKB', 'TGKA', 'TGKB', 'UPRO']\n",
      "['AFLT', 'FESH', 'FLOT', 'GLTR', 'NKHP', 'NMTP']\n"
     ]
    }
   ],
   "source": [
    "# c = a.set_index('TRADE_CODE')\n",
    "# print(c)\n",
    "b = a.groupby('BIGFIELD').groups\n",
    "for k, v in b.items():\n",
    "    print(list(a.loc[v,'TRADE_CODE']))"
   ]
  },
  {
   "cell_type": "code",
   "execution_count": 1,
   "metadata": {},
   "outputs": [
    {
     "ename": "ModuleNotFoundError",
     "evalue": "No module named 'streamlit'",
     "output_type": "error",
     "traceback": [
      "\u001b[0;31m---------------------------------------------------------------------------\u001b[0m",
      "\u001b[0;31mModuleNotFoundError\u001b[0m                       Traceback (most recent call last)",
      "\u001b[1;32m/mnt/PartOfDiskWithWin7/LEARN/MOEX_hack_my_proj/MOEX_hack/work_mats/test.ipynb Cell 3\u001b[0m line \u001b[0;36m1\n\u001b[0;32m----> <a href='vscode-notebook-cell:/mnt/PartOfDiskWithWin7/LEARN/MOEX_hack_my_proj/MOEX_hack/work_mats/test.ipynb#W2sZmlsZQ%3D%3D?line=0'>1</a>\u001b[0m \u001b[39mimport\u001b[39;00m \u001b[39mstreamlit\u001b[39;00m \u001b[39mas\u001b[39;00m \u001b[39mst\u001b[39;00m\n\u001b[1;32m      <a href='vscode-notebook-cell:/mnt/PartOfDiskWithWin7/LEARN/MOEX_hack_my_proj/MOEX_hack/work_mats/test.ipynb#W2sZmlsZQ%3D%3D?line=2'>3</a>\u001b[0m st\u001b[39m.\u001b[39mbutton(\u001b[39m\"\u001b[39m\u001b[39mReset\u001b[39m\u001b[39m\"\u001b[39m, \u001b[39mtype\u001b[39m\u001b[39m=\u001b[39m\u001b[39m\"\u001b[39m\u001b[39mprimary\u001b[39m\u001b[39m\"\u001b[39m)\n\u001b[1;32m      <a href='vscode-notebook-cell:/mnt/PartOfDiskWithWin7/LEARN/MOEX_hack_my_proj/MOEX_hack/work_mats/test.ipynb#W2sZmlsZQ%3D%3D?line=3'>4</a>\u001b[0m \u001b[39mif\u001b[39;00m st\u001b[39m.\u001b[39mbutton(\u001b[39m'\u001b[39m\u001b[39mSay hello\u001b[39m\u001b[39m'\u001b[39m):\n",
      "\u001b[0;31mModuleNotFoundError\u001b[0m: No module named 'streamlit'"
     ]
    }
   ],
   "source": []
  }
 ],
 "metadata": {
  "kernelspec": {
   "display_name": "Python 3",
   "language": "python",
   "name": "python3"
  },
  "language_info": {
   "codemirror_mode": {
    "name": "ipython",
    "version": 3
   },
   "file_extension": ".py",
   "mimetype": "text/x-python",
   "name": "python",
   "nbconvert_exporter": "python",
   "pygments_lexer": "ipython3",
   "version": "3.11.5"
  }
 },
 "nbformat": 4,
 "nbformat_minor": 2
}
