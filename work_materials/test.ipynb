{
 "cells": [
  {
   "cell_type": "code",
   "execution_count": 37,
   "metadata": {},
   "outputs": [
    {
     "data": {
      "text/html": [
       "<div>\n",
       "<style scoped>\n",
       "    .dataframe tbody tr th:only-of-type {\n",
       "        vertical-align: middle;\n",
       "    }\n",
       "\n",
       "    .dataframe tbody tr th {\n",
       "        vertical-align: top;\n",
       "    }\n",
       "\n",
       "    .dataframe thead th {\n",
       "        text-align: right;\n",
       "    }\n",
       "</style>\n",
       "<table border=\"1\" class=\"dataframe\">\n",
       "  <thead>\n",
       "    <tr style=\"text-align: right;\">\n",
       "      <th></th>\n",
       "      <th>TRADE_CODE</th>\n",
       "      <th>BIGFIELD</th>\n",
       "    </tr>\n",
       "  </thead>\n",
       "  <tbody>\n",
       "    <tr>\n",
       "      <th>0</th>\n",
       "      <td>ABIO</td>\n",
       "      <td>Потребсектор</td>\n",
       "    </tr>\n",
       "    <tr>\n",
       "      <th>1</th>\n",
       "      <td>AFLT</td>\n",
       "      <td>транспорт</td>\n",
       "    </tr>\n",
       "    <tr>\n",
       "      <th>2</th>\n",
       "      <td>AGRO</td>\n",
       "      <td>Потребсектор</td>\n",
       "    </tr>\n",
       "    <tr>\n",
       "      <th>3</th>\n",
       "      <td>AKRN</td>\n",
       "      <td>Химпром</td>\n",
       "    </tr>\n",
       "    <tr>\n",
       "      <th>4</th>\n",
       "      <td>ALRS</td>\n",
       "      <td>Металлы и добыча</td>\n",
       "    </tr>\n",
       "  </tbody>\n",
       "</table>\n",
       "</div>"
      ],
      "text/plain": [
       "  TRADE_CODE          BIGFIELD\n",
       "0       ABIO      Потребсектор\n",
       "1       AFLT         транспорт\n",
       "2       AGRO      Потребсектор\n",
       "3       AKRN           Химпром\n",
       "4       ALRS  Металлы и добыча"
      ]
     },
     "execution_count": 37,
     "metadata": {},
     "output_type": "execute_result"
    }
   ],
   "source": [
    "import pandas as pd\n",
    "\n",
    "# a = pd.read_csv('fields0.csv')\n",
    "# a = a.drop(['INN', 'FIELD'], axis=1)\n",
    "# a = a.dropna(axis=0)\n",
    "# a.to_csv('fields.csv', index=False)\n",
    "a = pd.read_csv('fields.csv')\n",
    "a.head()"
   ]
  },
  {
   "cell_type": "code",
   "execution_count": 43,
   "metadata": {},
   "outputs": [
    {
     "name": "stdout",
     "output_type": "stream",
     "text": [
      "['CIAN', 'HHRU', 'OZON', 'POSI', 'VKCO', 'YNDX']\n",
      "['ALRS', 'CHMF', 'ENPG', 'GMKN', 'MAGN', 'MTLR', 'MTLRP', 'NLMK', 'PLZL', 'POLY', 'RASP', 'RUAL', 'SELG', 'VSMO']\n",
      "['BANEP', 'GAZP', 'LKOH', 'NVTK', 'RNFT', 'ROSN', 'SNGS', 'SNGSP', 'TATN', 'TATNP', 'TRNFP']\n",
      "['ABIO', 'AGRO', 'APTK', 'AQUA', 'BELU', 'FIVE', 'FIXP', 'GEMC', 'LENT', 'MDMG', 'MGNT', 'MVID', 'OKEY', 'SVAV', 'WUSH']\n",
      "['ETLN', 'LSRG', 'PIKK', 'SMLT']\n",
      "['MGTSP', 'MTSS', 'RTKM', 'RTKMP', 'TTLK']\n",
      "['BSPB', 'CBOM', 'MOEX', 'QIWI', 'RENI', 'SBER', 'SBERP', 'SFIN', 'SPBE', 'TCSG', 'VTBR']\n",
      "['AKRN', 'KAZT', 'KZOS', 'KZOSP', 'NKNC', 'NKNCP', 'PHOR']\n",
      "['DVEC', 'ELFV', 'FEES', 'HYDR', 'IRAO', 'LSNGP', 'MRKC', 'MRKP', 'MRKU', 'MRKV', 'MRKZ', 'MSNG', 'MSRS', 'OGKB', 'TGKA', 'TGKB', 'UPRO']\n",
      "['AFLT', 'FESH', 'FLOT', 'GLTR', 'NKHP', 'NMTP']\n"
     ]
    }
   ],
   "source": [
    "# c = a.set_index('TRADE_CODE')\n",
    "# print(c)\n",
    "b = a.groupby('BIGFIELD').groups\n",
    "for k, v in b.items():\n",
    "    print(list(a.loc[v,'TRADE_CODE']))"
   ]
  },
  {
   "cell_type": "code",
   "execution_count": 1,
   "metadata": {},
   "outputs": [
    {
     "ename": "ModuleNotFoundError",
     "evalue": "No module named 'streamlit'",
     "output_type": "error",
     "traceback": [
      "\u001b[0;31m---------------------------------------------------------------------------\u001b[0m",
      "\u001b[0;31mModuleNotFoundError\u001b[0m                       Traceback (most recent call last)",
      "\u001b[1;32m/mnt/PartOfDiskWithWin7/LEARN/MOEX_hack_my_proj/MOEX_hack/work_mats/test.ipynb Cell 3\u001b[0m line \u001b[0;36m1\n\u001b[0;32m----> <a href='vscode-notebook-cell:/mnt/PartOfDiskWithWin7/LEARN/MOEX_hack_my_proj/MOEX_hack/work_mats/test.ipynb#W2sZmlsZQ%3D%3D?line=0'>1</a>\u001b[0m \u001b[39mimport\u001b[39;00m \u001b[39mstreamlit\u001b[39;00m \u001b[39mas\u001b[39;00m \u001b[39mst\u001b[39;00m\n\u001b[1;32m      <a href='vscode-notebook-cell:/mnt/PartOfDiskWithWin7/LEARN/MOEX_hack_my_proj/MOEX_hack/work_mats/test.ipynb#W2sZmlsZQ%3D%3D?line=2'>3</a>\u001b[0m st\u001b[39m.\u001b[39mbutton(\u001b[39m\"\u001b[39m\u001b[39mReset\u001b[39m\u001b[39m\"\u001b[39m, \u001b[39mtype\u001b[39m\u001b[39m=\u001b[39m\u001b[39m\"\u001b[39m\u001b[39mprimary\u001b[39m\u001b[39m\"\u001b[39m)\n\u001b[1;32m      <a href='vscode-notebook-cell:/mnt/PartOfDiskWithWin7/LEARN/MOEX_hack_my_proj/MOEX_hack/work_mats/test.ipynb#W2sZmlsZQ%3D%3D?line=3'>4</a>\u001b[0m \u001b[39mif\u001b[39;00m st\u001b[39m.\u001b[39mbutton(\u001b[39m'\u001b[39m\u001b[39mSay hello\u001b[39m\u001b[39m'\u001b[39m):\n",
      "\u001b[0;31mModuleNotFoundError\u001b[0m: No module named 'streamlit'"
     ]
    }
   ],
   "source": []
  }
 ],
 "metadata": {
  "kernelspec": {
   "display_name": "Python 3",
   "language": "python",
   "name": "python3"
  },
  "language_info": {
   "codemirror_mode": {
    "name": "ipython",
    "version": 3
   },
   "file_extension": ".py",
   "mimetype": "text/x-python",
   "name": "python",
   "nbconvert_exporter": "python",
   "pygments_lexer": "ipython3",
   "version": "3.11.5"
  }
 },
 "nbformat": 4,
 "nbformat_minor": 2
}
